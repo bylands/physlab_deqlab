{
 "cells": [
  {
   "cell_type": "code",
   "execution_count": 4,
   "metadata": {},
   "outputs": [],
   "source": [
    "import matplotlib.pyplot as plt\n",
    "import numpy as np\n",
    "\n",
    "from scipy.integrate import solve_ivp\n",
    "from scipy.optimize import curve_fit\n",
    "from ipywidgets import interact\n",
    "\n",
    "from scipy.interpolate import UnivariateSpline"
   ]
  },
  {
   "cell_type": "code",
   "execution_count": 5,
   "metadata": {},
   "outputs": [],
   "source": [
    "rhom = 8.92e3 # mass density of copper\n",
    "rho = 1.7e-8 # resistivity of copper\n",
    "h = 1e-3 # thickness of plate\n",
    "\n",
    "N_rings = 500 # number of rings for flux calculation\n",
    "rmax = 0.1 # radius of circular plate\n",
    "dr = rmax / N_rings\n",
    "\n",
    "m = rhom * rmax*rmax*np.pi * h # mass of copper plate\n",
    "\n",
    "B = 0.1 # strength of magnetic field for x > 0\n",
    "\n",
    "x0 = -0.1 # initial position of plate\n",
    "v0 = 0.1 # initial velocity in x direction\n",
    "\n",
    "# define time and position arrays\n",
    "N_steps = 100 # number of steps for simulation\n",
    "tmax = 2 # time range for simulation\n",
    "dt = tmax/N_steps\n",
    "t = np.linspace(0, tmax, N_steps)\n",
    "\n",
    "x = x0 + v0*t\n",
    "\n",
    "# calculate areas as function of position\n",
    "A = np.zeros((N_steps, N_rings))\n",
    "A0 = np.zeros(N_rings)\n",
    "\n",
    "rs = np.linspace(dr, rmax, N_rings) # outer radii of rings\n",
    "\n",
    "A0 = rs*rs*np.pi # areas of complete discs\n",
    "\n",
    "# loop to calculate partial areas in magnetic field\n",
    "for i, pos in enumerate(x):\n",
    "    for j, r in enumerate(rs):\n",
    "        if pos < 0:\n",
    "            if pos + r > 0:\n",
    "                s = np.sqrt(r*r - pos*pos)\n",
    "                al = np.arccos(-pos/r)\n",
    "                A[i, j] = A0[j]*al/np.pi + s*pos\n",
    "        if pos > 0:\n",
    "            if pos - r < 0:\n",
    "                s = np.sqrt(r*r - pos*pos)\n",
    "                al = np.arccos(pos/r)\n",
    "                A[i, j] = A0[j]*(1-al/np.pi) + s*pos\n",
    "            else:\n",
    "                A[i, j] = A0[j]\n",
    "\n",
    "# define interpolated functions for areas and rate of change of areas\n",
    "\n",
    "areas = [UnivariateSpline(x, A[:, i], k=3, s=0) for i in range(N_rings)]\n",
    "dadxs = [areas[i].derivative() for i in range(N_rings)]\n",
    "\n",
    "# for i, area in enumerate(areas):\n",
    "#     # plt.plot(x, area(x))\n",
    "#     # plt.plot(x, A[:, i])\n",
    "#     plt.plot(x, area(x)-A[:, i])\n",
    "# for dadx in dadxs:    \n",
    "#     plt.plot(x, dadx(x))\n",
    "# plt.show()\n",
    "\n",
    "# define quantities for calculation of force\n",
    "x = np.zeros(N_steps) # define empty array for positions\n",
    "vx = np.zeros(N_steps) # define empty array for velocities\n",
    "x[0] = x0 # initial position\n",
    "vx[0] = v0 # initial velocity\n",
    "\n",
    "Rs = rho*2*np.pi*(rs-dr/2)/(dr*h) # resistance of rings\n",
    "\n",
    "N_segments = 120 # number of segments per ring\n",
    "phis = np.linspace(0, 2*np.pi, N_segments) # angles\n",
    "\n",
    "# define vectors for segments\n",
    "rxs = [rs[i] * np.sin(phis) for i in range(N_rings)]\n",
    "rys = [rs[i] * np.cos(phis) for i in range(N_rings)]\n",
    "rzs = np.zeros((N_rings, N_segments))\n",
    "\n",
    "r_vecs = np.array([rxs, rys, rzs])\n",
    "\n",
    "F = np.zeros((N_rings, 3)) # initialize force array\n",
    "B_vec = np.array([0, 0, B]) # magnetic field vector\n",
    "\n",
    "# loop to calculate positions\n",
    "for i in range(N_steps-1):\n",
    "    Eis = [min(-B*dadxs[j](x[i])*vx[i], 0) for j in range(N_rings)] # induced emf (Faraday's law)\n",
    "    Is = Eis/Rs # calculate currents through rings\n",
    "\n",
    "    for j in range(N_rings):\n",
    "        rj = np.copy(r_vecs[:, j, :])\n",
    "        rjx = np.delete(rj[0, :], np.where(rj[0, :]<0))\n",
    "        rjy = np.delete(rj[1, :], np.where(rj[0, :]<0))\n",
    "        \n",
    "        dl = np.array([np.diff(rjx), np.diff(rjy)]) # line elements in field\n",
    "        \n",
    "        F[j] = -Is[j]*np.cross(dl, B_vec, axisa=0).sum(axis=0) # force on segment\n",
    "\n",
    "    Fres = F.sum(axis=0) # resultant force\n",
    "    ax = Fres[0]/m # acceleration in x direction\n",
    "\n",
    "    vx[i+1] = vx[i] + ax*dt\n",
    "    x[i+1] = x[i] + vx[i+1]*dt"
   ]
  },
  {
   "cell_type": "code",
   "execution_count": 8,
   "metadata": {},
   "outputs": [
    {
     "data": {
      "image/png": "[encoded data removed]",
      "text/plain": [
       "<Figure size 640x480 with 1 Axes>"
      ]
     },
     "metadata": {},
     "output_type": "display_data"
    }
   ],
   "source": [
    "plt.plot(t, vx)\n",
    "# plt.plot(t, x)\n",
    "plt.show()"
   ]
  },
  {
   "cell_type": "code",
   "execution_count": 9,
   "metadata": {},
   "outputs": [
    {
     "data": {
      "text/plain": [
       "0.0001403979334252555"
      ]
     },
     "execution_count": 9,
     "metadata": {},
     "output_type": "execute_result"
    }
   ],
   "source": [
    "vx[-1]"
   ]
  },
  {
   "cell_type": "code",
   "execution_count": 91,
   "metadata": {},
   "outputs": [
    {
     "data": {
      "text/plain": [
       "0.002889248367620174"
      ]
     },
     "execution_count": 91,
     "metadata": {},
     "output_type": "execute_result"
    }
   ],
   "source": [
    "vx[-1]"
   ]
  },
  {
   "cell_type": "code",
   "execution_count": null,
   "metadata": {},
   "outputs": [],
   "source": []
  }
 ],
 "metadata": {
  "kernelspec": {
   "display_name": "physics",
   "language": "python",
   "name": "python3"
  },
  "language_info": {
   "codemirror_mode": {
    "name": "ipython",
    "version": 3
   },
   "file_extension": ".py",
   "mimetype": "text/x-python",
   "name": "python",
   "nbconvert_exporter": "python",
   "pygments_lexer": "ipython3",
   "version": "3.10.12"
  },
  "orig_nbformat": 4
 },
 "nbformat": 4,
 "nbformat_minor": 2
}
