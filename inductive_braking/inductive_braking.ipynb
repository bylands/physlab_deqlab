{
 "cells": [
  {
   "cell_type": "code",
   "execution_count": 1,
   "metadata": {},
   "outputs": [],
   "source": [
    "import matplotlib.pyplot as plt\n",
    "import numpy as np\n",
    "\n",
    "from scipy.integrate import solve_ivp\n",
    "from scipy.optimize import curve_fit\n",
    "from ipywidgets import interact"
   ]
  },
  {
   "cell_type": "code",
   "execution_count": 11,
   "metadata": {},
   "outputs": [
    {
     "data": {
      "application/vnd.jupyter.widget-view+json": {
       "model_id": "c29d162c644e47d4a841a9ec261b843a",
       "version_major": 2,
       "version_minor": 0
      },
      "text/plain": [
       "interactive(children=(IntSlider(value=10, description='N', min=1), Checkbox(value=True, description='RK'), Che…"
      ]
     },
     "metadata": {},
     "output_type": "display_data"
    }
   ],
   "source": [
    "# define function for derivative\n",
    "def dvdt(t, v, tau):\n",
    "    return -v/tau\n",
    "\n",
    "# define exact solution\n",
    "def ex_sol(t, A, tau):\n",
    "    return A * np.exp(-t / tau)\n",
    "\n",
    "# define parameters\n",
    "L = 0.1\n",
    "B = 0.5\n",
    "R = 1\n",
    "m = 0.05\n",
    "\n",
    "v0 = 1\n",
    "\n",
    "tau = (R*m)/(L*B)**2\n",
    "\n",
    "tmax = 5*tau\n",
    "\n",
    "@interact(N=(1, 100), RK=True, Fit=True, Euler=False, Exact=False)\n",
    "def plot(N=10, RK=True, Fit=True, Euler=False, Exact=False):\n",
    "\n",
    "    dt = tmax/N\n",
    "    t = np.linspace(0, tmax, N+1) # array for times\n",
    "    v_eu = np.zeros(N+1) # prepare empty array for positions\n",
    "\n",
    "    N_ex = 100 # number of points to plot for exact solution\n",
    "    t_ex = np.linspace(0, tmax, N_ex) # times for exact solution\n",
    "    v_ex = ex_sol(t_ex, v0, tau) # positions for exact solution\n",
    "    v_ex2 = ex_sol(t, v0, tau) # positions at times for numerical solution (for comparison)\n",
    "\n",
    "    # Euler algorithm\n",
    "    v_eu[0] = v0\n",
    "\n",
    "    for i in range(0, N):\n",
    "        slope = dvdt(0, v_eu[i], tau) # get value for slope of current point\n",
    "        v_eu[i+1] = v_eu[i] + slope * dt # calculate position of next step\n",
    "\n",
    "    # Runge-Kutta algorithm\n",
    "    rk = solve_ivp(dvdt, (0, tmax), [v0], args=[tau], t_eval=t) # call solve_ivp to get solution with RK\n",
    "    v_rk = rk.y[0] # assign positions (rk.t contains times, rk.y positions)\n",
    "\n",
    "    # Fit to RK\n",
    "    param, cov = curve_fit(ex_sol, t, v_rk)\n",
    "    v0_fit, tau_fit = param\n",
    "\n",
    "    v_fit = ex_sol(t_ex, v0_fit, tau_fit)\n",
    "\n",
    "    # prepare stacked plot\n",
    "    fig, axs = plt.subplots(2, figsize=(8, 8), gridspec_kw={'height_ratios': [2, 1]})\n",
    "    ax1, ax2 = axs\n",
    "\n",
    "    tscale = 1 # scale factor for time (µs)\n",
    "    Iscale = 1 # scale factor for current (mA)\n",
    "    \n",
    "    if RK:\n",
    "        ax1.scatter(t*tscale, v_rk*Iscale, s=4, c='black', label=\"Runge-Kutta\")\n",
    "\n",
    "    if Fit:\n",
    "        ax1.plot(t_ex*tscale, v_fit*Iscale, 'g--', linewidth=1, label='fit to RK')\n",
    "        ax1.text(3.5*tau*tscale, v0_fit/5*Iscale, f'fit parameters: \\n'\n",
    "                 +r'$I_0$'+f' = {v0_fit:.3f} m/s \\n'\n",
    "                 +r'$\\tau$'+f' = {tau_fit:.3f} s')\n",
    "    \n",
    "    if Euler:\n",
    "        ax1.scatter(t*tscale, v_eu*Iscale, s=4, c='red', label='Euler')\n",
    "    \n",
    "    if Exact:\n",
    "        ax1.plot(t_ex*tscale, v_ex*Iscale, 'b--', linewidth=1, label='exact solution')\n",
    "        ax1.text(2*tau*tscale, v0/5*Iscale, f'exact values: \\n'\n",
    "                 +r'$I_0$'+f' = {v0:.3f} m/s \\n'\n",
    "                 +r'$\\tau$'+f' = {tau:.3f} s')\n",
    "    \n",
    "    ax1.set(xlabel='Time (s)', ylabel='Velocity (m/s)')\n",
    "    ax1.grid()\n",
    "    ax1.legend()\n",
    "\n",
    "    if Euler:\n",
    "        diff = v_eu-v_ex2\n",
    "        ax2.scatter(t*tscale, np.divide(diff, v_ex2, out=np.zeros_like(diff), where=v_ex2!=0), \n",
    "                    s=4, c='red', label='Euler – exact')\n",
    "    if RK:\n",
    "        diff = v_rk-v_ex2\n",
    "        ax2.scatter(t*tscale, np.divide(diff, v_ex2, out=np.zeros_like(diff), where=v_ex2!=0), \n",
    "                    s=4, c='black', label='RK – exact')\n",
    "    ax2.grid()\n",
    "    ax2.legend()\n",
    "    plt.show()\n"
   ]
  }
 ],
 "metadata": {
  "kernelspec": {
   "display_name": "physics",
   "language": "python",
   "name": "python3"
  },
  "language_info": {
   "codemirror_mode": {
    "name": "ipython",
    "version": 3
   },
   "file_extension": ".py",
   "mimetype": "text/x-python",
   "name": "python",
   "nbconvert_exporter": "python",
   "pygments_lexer": "ipython3",
   "version": "3.10.12"
  },
  "orig_nbformat": 4
 },
 "nbformat": 4,
 "nbformat_minor": 2
}
