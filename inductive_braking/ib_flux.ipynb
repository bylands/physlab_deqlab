{
 "cells": [
  {
   "cell_type": "code",
   "execution_count": 1,
   "metadata": {},
   "outputs": [
    {
     "name": "stdout",
     "output_type": "stream",
     "text": [
      "Intel MKL WARNING: Support of Intel(R) Streaming SIMD Extensions 4.2 (Intel(R) SSE4.2) enabled only processors has been deprecated. Intel oneAPI Math Kernel Library 2025.0 will require Intel(R) Advanced Vector Extensions (Intel(R) AVX) instructions.\n",
      "Intel MKL WARNING: Support of Intel(R) Streaming SIMD Extensions 4.2 (Intel(R) SSE4.2) enabled only processors has been deprecated. Intel oneAPI Math Kernel Library 2025.0 will require Intel(R) Advanced Vector Extensions (Intel(R) AVX) instructions.\n"
     ]
    }
   ],
   "source": [
    "import matplotlib.pyplot as plt\n",
    "import numpy as np\n",
    "\n",
    "import ipywidgets as widgets\n",
    "\n",
    "from tqdm import tqdm"
   ]
  },
  {
   "cell_type": "code",
   "execution_count": 82,
   "metadata": {},
   "outputs": [],
   "source": []
  },
  {
   "cell_type": "code",
   "execution_count": 83,
   "metadata": {},
   "outputs": [],
   "source": [
    "def flux(rs, phis, As, pos, B, B0):\n",
    "    posx, posy = pos\n",
    "\n",
    "    N_r = rs.shape[0]\n",
    "    N_s = phis.shape[0]\n",
    "\n",
    "    rs2d = np.reshape(rs, (N_r, 1))\n",
    "    phis2d = np.reshape(phis, (1, N_s))\n",
    "\n",
    "    xs = posx + rs2d * np.cos(phis2d)\n",
    "    ys = posy + rs2d * np.sin(phis2d)\n",
    "    return (np.reshape(As, (N_r, 1))*B(xs, ys, B0)).sum()"
   ]
  },
  {
   "cell_type": "code",
   "execution_count": 104,
   "metadata": {},
   "outputs": [],
   "source": [
    "def B_const(x, y, B0):\n",
    "    return (x>0) * B0\n",
    "\n",
    "def B_lin(x, y, B0):\n",
    "    return (x>0) * 100*B0 * x\n",
    "\n",
    "def B_exp(x, y, B0):\n",
    "    return (x>0) * B0 * (1-np.exp(-50*x))\n",
    "\n",
    "def B_2d(x, y, B0):\n",
    "    return (x>0) * B0 * 100*B0*x * (1-y**2)"
   ]
  },
  {
   "cell_type": "code",
   "execution_count": 97,
   "metadata": {},
   "outputs": [],
   "source": [
    "def Forces(rvecs, N_rings, N_sectors, Is, pos, B, B0):\n",
    "\n",
    "    dls = np.diff(rvecs, axis=1)\n",
    "    dls = np.append(dls, np.reshape(rvecs[:, 0]-rvecs[:, -1], (N_rings, 1, 3)), axis=1)\n",
    "\n",
    "    x = (rvecs + dls/2 + pos)[:, :, 0]\n",
    "    y = (rvecs + dls/2 + pos)[:, :, 1]\n",
    "    \n",
    "    Bvec = np.concatenate((np.zeros((2*N_rings, N_sectors)), B(x, y, B0)))\n",
    "    Bvec = np.reshape(Bvec, (3, N_rings, N_sectors))\n",
    "    Bvec = np.moveaxis(Bvec, 0, 2)\n",
    "\n",
    "    Fs = (np.reshape(Is, (N_rings, 1, 1)) * np.cross(dls, Bvec)).sum(axis=1)\n",
    "\n",
    "    return Fs"
   ]
  },
  {
   "cell_type": "code",
   "execution_count": 110,
   "metadata": {},
   "outputs": [],
   "source": [
    "style = {'description_width': '150px'}\n",
    "layout_slider = widgets.Layout(width='500px')\n",
    "\n",
    "select_v0 = widgets.FloatSlider(value=0.2, min=-1.0, max=1.0, step=0.01, continuous_update=False, description='initial velocity', \n",
    "                                style=style, layout=layout_slider)\n",
    "select_x0 = widgets.FloatSlider(value=-0.1, min=-0.5, max=0.5, step=0.01, continuous_update=False, description='initial position', \n",
    "                                style=style, layout=layout_slider)\n",
    "select_tmax = widgets.FloatLogSlider(value=1, min=-2, max=2, step=0.05, continuous_update=False, description='time range', \n",
    "                                readout_format='.2f', style=style, layout=layout_slider)\n",
    "select_rmax = widgets.FloatSlider(value=0.1, min=0.01, max=0.5, step=0.01, continuous_update=False, description='disc radius', \n",
    "                                readout_format='.2f', style=style, layout=layout_slider)\n",
    "select_steps = widgets.IntSlider(value=50, min=10, max=500, step=10, continuous_update=False, description='number of steps', \n",
    "                                style=style, layout=layout_slider)\n",
    "select_rings = widgets.IntSlider(value=25, min=10, max=200, step=1, continuous_update=False, description='number of rings', \n",
    "                                style=style, layout=layout_slider)\n",
    "select_sectors = widgets.IntSlider(value=90, min=10, max=360, step=1, continuous_update=False, description='number of sectors', \n",
    "                                style=style, layout=layout_slider)\n",
    "\n",
    "select_B0 = widgets.FloatSlider(value=0.1, min=0, max=1, step=0.01, continuous_update=False, description='characteristic B field', \n",
    "                                style=style, layout=layout_slider)\n",
    "\n",
    "select_B = widgets.Dropdown(options=[('constant', B_const), \n",
    "                                     ('linear increase', B_lin), \n",
    "                                     ('exponential saturation', B_exp),\n",
    "                                     ('2D field', B_2d)], \n",
    "                            description='magnetic field', style=style, layout=layout_slider)\n",
    "\n",
    "select_pos = widgets.Checkbox(value=True, description='plot position')\n",
    "select_vel = widgets.Checkbox(value=False, description='plot velocity')\n",
    "select_force = widgets.Checkbox(value=False, description='plot force')\n",
    "select_flux = widgets.Checkbox(value=False, description='plot flux')"
   ]
  },
  {
   "cell_type": "code",
   "execution_count": 113,
   "metadata": {},
   "outputs": [
    {
     "data": {
      "application/vnd.jupyter.widget-view+json": {
       "model_id": "50811d88576d4670acd7199dd6c2ad0a",
       "version_major": 2,
       "version_minor": 0
      },
      "text/plain": [
       "interactive(children=(FloatSlider(value=0.2, continuous_update=False, description='initial velocity', layout=L…"
      ]
     },
     "metadata": {},
     "output_type": "display_data"
    }
   ],
   "source": [
    "@widgets.interact(v0=select_v0, x0=select_x0, tmax=select_tmax, rmax=select_rmax,\n",
    "                  N_steps=select_steps, N_rings=select_rings, N_sectors=select_sectors,\n",
    "                  B0=select_B0, B=select_B, plot_x=select_pos, plot_v=select_vel, plot_F=select_force, plot_flux=select_flux)\n",
    "def plot(v0, x0, tmax, rmax, N_steps, N_rings, N_sectors, B0, B, plot_x, plot_v, plot_F, plot_flux):\n",
    "\n",
    "    #prepare disc data\n",
    "    dr = rmax/N_rings\n",
    "    rs = np.linspace(dr, rmax, N_rings) - dr/2\n",
    "    dphi = 2*np.pi/N_sectors\n",
    "    phis = np.linspace(0, 2*np.pi-dphi, N_sectors)\n",
    "\n",
    "    A_sectors = (rs+dr/2)**2 * np.pi/N_sectors\n",
    "    A_sector_rings = np.diff(A_sectors)\n",
    "    A_sector_rings = np.insert(A_sector_rings, 0, A_sectors[0])\n",
    "\n",
    "    rhom = 8.92e3 # mass density of copper\n",
    "    rho = 1.7e-8 # resistivity of copper\n",
    "    h = 1e-3 # thickness of plate\n",
    "\n",
    "    m = rhom * rmax*rmax*np.pi * h # mass of copper plate\n",
    "\n",
    "\n",
    "    # define time and position arrays\n",
    "    dt = tmax/N_steps\n",
    "    t = np.linspace(0, tmax, N_steps)\n",
    "\n",
    "    # define quantities for calculation of force\n",
    "    x = np.zeros(N_steps) # define empty array for positions\n",
    "    vx = np.zeros(N_steps) # define empty array for velocities\n",
    "    Fx = np.zeros((N_steps, 3)) # define empty array for forces\n",
    "    fluxes = np.zeros((N_steps, N_rings)) # define empty array for fluxes\n",
    "\n",
    "    x[0] = x0 # initial position\n",
    "    vx[0] = v0 # initial velocity\n",
    "    fluxes[0] = np.array([flux(rs[0:i+1], phis, A_sector_rings[0:i+1], (x0, 0), B, B0) \n",
    "                      for i in range(N_rings)])\n",
    "\n",
    "    Rs = rho*2*np.pi*rs/(dr*h) # resistance of rings\n",
    "\n",
    "    # define vectors for segments\n",
    "    rxs = [r * np.cos(phis) for r in rs]\n",
    "    rys = [r * np.sin(phis) for r in rs]\n",
    "    rzs = np.zeros((N_rings, N_sectors))\n",
    "\n",
    "    r_vecs = np.moveaxis(np.array([rxs, rys, rzs]), 0, 2)\n",
    "\n",
    "    # loop to calculate positions\n",
    "    for i in range(N_steps-1):\n",
    "        fluxes[i+1] = np.array([flux(rs[0:n+1], phis, A_sector_rings[0:n+1], (x[i], 0), B, B0) \n",
    "                          for n in range(N_rings)])\n",
    "\n",
    "        Eis = -(fluxes[i+1]-fluxes[i])/dt # induced emf (Faraday's law)\n",
    "        Is = Eis/Rs # calculate currents through rings\n",
    "\n",
    "        Fs = Forces(r_vecs, N_rings, N_sectors, Is, (x[i], 0, 0), B, B0)\n",
    "        Fx[i] = Fs.sum(axis=0)\n",
    "        \n",
    "        ax = Fx[i, 0]/m # acceleration in x direction\n",
    "        \n",
    "        vx[i+1] = vx[i] + ax*dt\n",
    "        x[i+1] = x[i] + vx[i+1]*dt\n",
    "\n",
    "    if plot_x:\n",
    "        plt.plot(t, x, 'r', label='x vs t')\n",
    "    if plot_v:\n",
    "        plt.plot(t, vx, 'b', label='v vs t')\n",
    "    if plot_F:\n",
    "        plt.plot(t, -Fx[:, 0], 'g', label='|F| vs t')\n",
    "    if plot_flux:\n",
    "        plt.plot(t, fluxes.sum(axis=1)/dt, label=r'$\\Phi$ vs t')\n",
    "    \n",
    "    plt.grid()\n",
    "    plt.legend()"
   ]
  },
  {
   "cell_type": "code",
   "execution_count": null,
   "metadata": {},
   "outputs": [],
   "source": []
  }
 ],
 "metadata": {
  "kernelspec": {
   "display_name": "physics",
   "language": "python",
   "name": "python3"
  },
  "language_info": {
   "codemirror_mode": {
    "name": "ipython",
    "version": 3
   },
   "file_extension": ".py",
   "mimetype": "text/x-python",
   "name": "python",
   "nbconvert_exporter": "python",
   "pygments_lexer": "ipython3",
   "version": "3.10.12"
  },
  "orig_nbformat": 4
 },
 "nbformat": 4,
 "nbformat_minor": 2
}
