{
 "cells": [
  {
   "cell_type": "code",
   "execution_count": 2,
   "metadata": {},
   "outputs": [],
   "source": [
    "import numpy as np\n",
    "import matplotlib.pyplot as plt\n",
    "import ipywidgets as widgets\n",
    "\n",
    "%matplotlib inline"
   ]
  },
  {
   "cell_type": "markdown",
   "metadata": {},
   "source": [
    "# Differential Equations"
   ]
  },
  {
   "cell_type": "markdown",
   "metadata": {},
   "source": [
    "## What is a Differential Equation?\n",
    "\n",
    "A *differential equation* relates a function and its derivatives. In a physical context, the function represents a physical quantity (e.g. position, temperature, voltage), and the derivatives represent its rate of change.\n",
    "\n",
    "Examples: \n",
    "- $\\dot{x}(t)=-\\lambda\\cdot x(t)$\n",
    "- $\\ddot{y}(t)=-\\omega^2 \\cdot y(t)-\\dfrac{2}{\\delta}\\cdot\\dot{y}(t)$\n",
    "- $p'(h)=-k\\cdot p^\\alpha (h)$\n",
    "\n",
    "The solution of a differential equation is a function. In general there is no simple analytic function describing the solution. It is still possible to study the qualitative behaviour of the solution using the differential equation. It is also possible to numerically calculate the evolution of the solution."
   ]
  },
  {
   "cell_type": "markdown",
   "metadata": {},
   "source": [
    "### First Example\n",
    "\n",
    "The solution of the differential equation $\\dot{x}(t)=\\lambda\\cdot x(t)$ can be \"guessed\" to be\n",
    "$$x(t)=x_0\\cdot e^{-\\lambda t}$$\n",
    "\n",
    "We can easily verify that this is a solution to the differential equation by evaluating both sides of the equation:\n",
    "\n",
    "- Left side (using $\\textrm{d}{e^t}/\\textrm{d} t = e^t$ and the chain rule): $\\dot{x}(t)=x_0\\cdot e^{-\\lambda t}\\cdot (-\\lambda)=-\\lambda\\cdot x_0\\cdot e^{-\\lambda t}$\n",
    "- Right side: $-\\lambda\\cdot x(t)=-\\lambda\\cdot x_0\\cdot e^{-\\lambda t}$\n",
    "\n",
    "The constant $x_0$ cannot be derived from the differential equation itself, but it follows from additional information about the physical system, such as the initial condition ($x(0)=x_0$).\n",
    "\n",
    "The graph below displays the solution for different values of $\\lambda$ and $x_0$."
   ]
  },
  {
   "cell_type": "code",
   "execution_count": 7,
   "metadata": {},
   "outputs": [
    {
     "data": {
      "application/vnd.jupyter.widget-view+json": {
       "model_id": "8da4bdc3c0e14b06be1f357064e7ff96",
       "version_major": 2,
       "version_minor": 0
      },
      "text/plain": [
       "interactive(children=(FloatSlider(value=1.0, description='lambda', max=2.0, min=0.5, step=0.05), FloatSlider(v…"
      ]
     },
     "metadata": {},
     "output_type": "display_data"
    }
   ],
   "source": [
    "def plot_x(lam, x0, tP):\n",
    "    xmax = 5\n",
    "    ymax = 2\n",
    "\n",
    "    t = np.linspace(0, xmax, 100)\n",
    "    x = x0 * np.exp(-lam * t)\n",
    "\n",
    "    t_tan = np.linspace(tP-1, tP+1, 10)\n",
    "    xP = x0*np.exp(-lam*tP)\n",
    "    m = -lam*xP\n",
    "    q = xP-m*tP\n",
    "    x_tan = m*t_tan + q\n",
    "\n",
    "    plt.figure(figsize=(8,6))\n",
    "    plt.plot(t, x, 'r')\n",
    "    plt.plot(t_tan, x_tan, 'b')\n",
    "    plt.xlabel(r'$t$')\n",
    "    plt.ylabel(r'$x(t)$')\n",
    "    plt.text(1.8, 1, r'slope at $t_P$ = '+\n",
    "             f'{tP:.2f}: \\n'+r'$\\dot{x}(t_P)$ = '+\n",
    "             f'{m:.3f} = '+r'$-\\lambda\\cdot x(t_P)$')\n",
    "    plt.xlim([0, xmax])\n",
    "    plt.ylim([0, ymax])\n",
    "    plt.grid(True)\n",
    "    plt.show()\n",
    "\n",
    "lam = 1\n",
    "ymax = 2\n",
    "tmax = 5\n",
    "\n",
    "select_lam = widgets.FloatSlider(value=1.0, min=0.5, max=2.0, step=0.05, description='lambda')\n",
    "select_x0 = widgets.FloatSlider(value=1.5, min=0.5, max=2.0, step=0.05, description='initial x0')\n",
    "select_tP = widgets.FloatSlider(value=1.0, min=0, max=5.0, step=0.05, description='tangent tP')\n",
    "\n",
    "interactive_plot = widgets.interactive(plot_x, lam=select_lam, x0=select_x0, tP=select_tP)\n",
    "output = interactive_plot.children[-1]\n",
    "interactive_plot\n"
   ]
  },
  {
   "cell_type": "markdown",
   "metadata": {},
   "source": [
    "### More Examples\n",
    "\n",
    "Verify that the solutions fulfill the differential equations:\n",
    "- The differential equation $\\dot{x}(t)=k\\cdot x^2(t)$ has the solution $x(t)=-\\dfrac{x_0}{k\\cdot x_0\\cdot t-1}$ with an initial value $x(0)=x_0$.\n",
    "- The differential equation $\\dot{x}(t)=\\dfrac{k}{x(t)}$ has the solution $x(t)=\\pm \\sqrt{2 k\\cdot t+x_0^2)}$ with an initial value $x(0)=x_0$. The positive sign is valid for a positive initial value ($x_0>0$), the negative sign for a negative initial value ($x_0<0$)."
   ]
  },
  {
   "cell_type": "markdown",
   "metadata": {},
   "source": [
    "## Linear Differential Equations\n",
    "\n",
    "There are various types of differential equations, each type with its own strategies to find and analyse solutions. We are limiting ourselves to *ordinary differential equations* (ODEs), which only depend on a single independent variable (e.g. the time $t$). Some ODEs can be solved explicitly in terms of known functions.\n",
    "\n",
    "A *linear differential equation* is defined as a linear combination of the unknown function and its derivatives:\n",
    "$$ a_0(t)\\cdot x(t)+a_1(t)\\cdot \\dot{x}(t)+a_2(t)\\cdot \\ddot{x}(t)+\\cdots=0$$\n",
    "\n",
    "A linear differential equation is called *automonous* if the coefficients $a_i(t)$ are constant, i.e. do not depend on $t$. Otherwise it is called *non-automonous*. \n",
    "\n",
    "Linear differential equations are widely used in physics. They describe phenomena like radioactive decay, oscillations or cooling processes. Nonlinear equations are often approximated by linear equations to find an approximate solution.\n",
    "\n",
    "Two of the most important automonous linear differential equations are:\n",
    "- exponential growth/decay: $\\dot{x}(t)+\\lambda x(t)=0$ \n",
    "- damped oscillation: $\\ddot{x}(t)+\\beta\\cdot \\dot{x}(t)+\\omega^2\\cdot x(t)=0$"
   ]
  },
  {
   "cell_type": "markdown",
   "metadata": {},
   "source": [
    "## Qualitative Analysis\n",
    "\n",
    "The qualitative behaviour of a first order ordinary differential equation can be analysed using the graph of the function $f(x)$ defining the differential equation $\\dot{x}(t)=f(x(t))$. The zeros of the function correspond to *fix points* of the differential equation.\n",
    "\n",
    "At a fix point $x^*$ the derivative is equal to zero: $\\dot{x}(t)=f(x^*)=0$. It follows that $x(t)=x^*$ is a solution of the differential equation. The values of $f(x)$ near the fix point define the stability. We have to consider a small perturbation away from $x^*$, e.g. in the positive direction. If $f(x)>0$ at the new position, $x$ will increase even more and not return to $x^*$. If, on the other hand, $f(x)>0$ for $x$ slightly greater than $x^*$, the change of $x$ will be directed back to $x^*$.\n",
    "\n",
    "Depending on the shape of $f(x)$ near a fix point $x^*$ we can classify the stability of the fix point:\n",
    "- $x^*$ is a *stable* fix point if $f(x)>0$ for $x<x^*$ and $f(x)<0$ for $x>x^*$\n",
    "- $x^*$ is an *unstable* fix point if $f(x)<0$ for $x<x^*$ and $f(x)>0$ for $x>x^*$\n",
    "- $x^*$ is a *half-stable* fix point if $f(x)$ has the same sign for $x<x^*$ and $x>x^*$\n",
    "\n",
    "The figure below shows the fix points for the differential equation $\\dot{x(t)}=$x(t)^2-1$. The fix points are given by the equation $f(x)=x^2-1 = 0$, i.e. $x_{1, 2}^*=\\pm 1$. We can easily see that $x_1^*=-1$ is a stable fix point while $x_2^*$ is unstable.\n",
    "\n",
    "<img src='images/Fixpoints.png' width='500px'>\n",
    "\n",
    "Close to a stable fix point the behaviour of the solution can be approximated as an exponential decay, whereas for an unstable fix point it behaves like an exponential growth close to the fix point. All solutions of a differential equation of this type either tend to infinity or end at a stable fix point – with the exception of the (not very physical) case that the starting point is at an unstable fix point and there are no perturbations."
   ]
  },
  {
   "cell_type": "markdown",
   "metadata": {},
   "source": []
  }
 ],
 "metadata": {
  "kernelspec": {
   "display_name": "physics",
   "language": "python",
   "name": "python3"
  },
  "language_info": {
   "codemirror_mode": {
    "name": "ipython",
    "version": 3
   },
   "file_extension": ".py",
   "mimetype": "text/x-python",
   "name": "python",
   "nbconvert_exporter": "python",
   "pygments_lexer": "ipython3",
   "version": "3.9.6"
  },
  "orig_nbformat": 4
 },
 "nbformat": 4,
 "nbformat_minor": 2
}
